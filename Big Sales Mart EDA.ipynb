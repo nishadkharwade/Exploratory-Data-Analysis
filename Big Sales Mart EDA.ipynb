{
 "cells": [
  {
   "cell_type": "markdown",
   "metadata": {},
   "source": [
    "### Problem Statement\n",
    "\n",
    "The data scientists at BigMart have collected 2013 sales data for 1559 products across 10 stores in different cities. Also, certain attributes of each product and store have been defined. The aim is to build a predictive model and find out the sales of each product at a particular store.\n",
    "\n",
    "Using this model, BigMart will try to understand the properties of products and stores which play a key role in increasing sales.\n",
    "\n",
    " \n",
    "\n",
    "Please note that the data may have missing values as some stores might not report all the data due to technical glitches. Hence, it will be required to treat them accordingly.\n",
    "\n",
    "\n",
    "#### What is Train and Test\n",
    "\n",
    "In ML, train and test simply means a way to create and test a model.\n",
    "\n",
    "* Creation of Model is done using training data and the reason why it is called train is because train set contains predictors as well as Target variable.\n",
    "\n",
    "* Where as the test set has all the predictor variables however, the target is not given because in test set, we wish to predict the Target.\n",
    "\n",
    "* The No of columns in train set are 'n' and in test set it is 'n-1'"
   ]
  },
  {
   "cell_type": "code",
   "execution_count": 1,
   "metadata": {},
   "outputs": [],
   "source": [
    "# Importing the Libraries\n",
    "import pandas as pd\n",
    "import numpy as np\n",
    "import matplotlib.pyplot as plt # Data Visualization\n",
    "import seaborn as sns # Data Visualization"
   ]
  },
  {
   "cell_type": "code",
   "execution_count": 3,
   "metadata": {},
   "outputs": [],
   "source": [
    "# Importing the Dataset\n",
    "train = pd.read_csv(\"./Downloads/train_kOBLwZA.csv\")\n",
    "test = pd.read_csv(\"./Downloads/test_t02dQwI.csv\")"
   ]
  },
  {
   "cell_type": "code",
   "execution_count": 30,
   "metadata": {},
   "outputs": [
    {
     "data": {
      "text/html": [
       "<div>\n",
       "<style scoped>\n",
       "    .dataframe tbody tr th:only-of-type {\n",
       "        vertical-align: middle;\n",
       "    }\n",
       "\n",
       "    .dataframe tbody tr th {\n",
       "        vertical-align: top;\n",
       "    }\n",
       "\n",
       "    .dataframe thead th {\n",
       "        text-align: right;\n",
       "    }\n",
       "</style>\n",
       "<table border=\"1\" class=\"dataframe\">\n",
       "  <thead>\n",
       "    <tr style=\"text-align: right;\">\n",
       "      <th></th>\n",
       "      <th>Item_Identifier</th>\n",
       "      <th>Item_Weight</th>\n",
       "      <th>Item_Fat_Content</th>\n",
       "      <th>Item_Visibility</th>\n",
       "      <th>Item_Type</th>\n",
       "      <th>Item_MRP</th>\n",
       "      <th>Outlet_Identifier</th>\n",
       "      <th>Outlet_Establishment_Year</th>\n",
       "      <th>Outlet_Size</th>\n",
       "      <th>Outlet_Location_Type</th>\n",
       "      <th>Outlet_Type</th>\n",
       "      <th>Item_Outlet_Sales</th>\n",
       "    </tr>\n",
       "  </thead>\n",
       "  <tbody>\n",
       "    <tr>\n",
       "      <th>0</th>\n",
       "      <td>FDA15</td>\n",
       "      <td>9.30</td>\n",
       "      <td>Low Fat</td>\n",
       "      <td>0.016047</td>\n",
       "      <td>Dairy</td>\n",
       "      <td>249.8092</td>\n",
       "      <td>OUT049</td>\n",
       "      <td>1999</td>\n",
       "      <td>Medium</td>\n",
       "      <td>Tier 1</td>\n",
       "      <td>Supermarket Type1</td>\n",
       "      <td>3735.1380</td>\n",
       "    </tr>\n",
       "    <tr>\n",
       "      <th>1</th>\n",
       "      <td>DRC01</td>\n",
       "      <td>5.92</td>\n",
       "      <td>Regular</td>\n",
       "      <td>0.019278</td>\n",
       "      <td>Soft Drinks</td>\n",
       "      <td>48.2692</td>\n",
       "      <td>OUT018</td>\n",
       "      <td>2009</td>\n",
       "      <td>Medium</td>\n",
       "      <td>Tier 3</td>\n",
       "      <td>Supermarket Type2</td>\n",
       "      <td>443.4228</td>\n",
       "    </tr>\n",
       "  </tbody>\n",
       "</table>\n",
       "</div>"
      ],
      "text/plain": [
       "  Item_Identifier  Item_Weight Item_Fat_Content  Item_Visibility    Item_Type  \\\n",
       "0           FDA15         9.30          Low Fat         0.016047        Dairy   \n",
       "1           DRC01         5.92          Regular         0.019278  Soft Drinks   \n",
       "\n",
       "   Item_MRP Outlet_Identifier  Outlet_Establishment_Year Outlet_Size  \\\n",
       "0  249.8092            OUT049                       1999      Medium   \n",
       "1   48.2692            OUT018                       2009      Medium   \n",
       "\n",
       "  Outlet_Location_Type        Outlet_Type  Item_Outlet_Sales  \n",
       "0               Tier 1  Supermarket Type1          3735.1380  \n",
       "1               Tier 3  Supermarket Type2           443.4228  "
      ]
     },
     "execution_count": 30,
     "metadata": {},
     "output_type": "execute_result"
    }
   ],
   "source": [
    "# Preview the Dataset\n",
    "train.head(2) # firs 5 rows of the data"
   ]
  },
  {
   "cell_type": "code",
   "execution_count": 7,
   "metadata": {},
   "outputs": [
    {
     "data": {
      "text/html": [
       "<div>\n",
       "<style scoped>\n",
       "    .dataframe tbody tr th:only-of-type {\n",
       "        vertical-align: middle;\n",
       "    }\n",
       "\n",
       "    .dataframe tbody tr th {\n",
       "        vertical-align: top;\n",
       "    }\n",
       "\n",
       "    .dataframe thead th {\n",
       "        text-align: right;\n",
       "    }\n",
       "</style>\n",
       "<table border=\"1\" class=\"dataframe\">\n",
       "  <thead>\n",
       "    <tr style=\"text-align: right;\">\n",
       "      <th></th>\n",
       "      <th>Item_Identifier</th>\n",
       "      <th>Item_Weight</th>\n",
       "      <th>Item_Fat_Content</th>\n",
       "      <th>Item_Visibility</th>\n",
       "      <th>Item_Type</th>\n",
       "      <th>Item_MRP</th>\n",
       "      <th>Outlet_Identifier</th>\n",
       "      <th>Outlet_Establishment_Year</th>\n",
       "      <th>Outlet_Size</th>\n",
       "      <th>Outlet_Location_Type</th>\n",
       "      <th>Outlet_Type</th>\n",
       "    </tr>\n",
       "  </thead>\n",
       "  <tbody>\n",
       "    <tr>\n",
       "      <th>5676</th>\n",
       "      <td>FDB58</td>\n",
       "      <td>10.5</td>\n",
       "      <td>Regular</td>\n",
       "      <td>0.013496</td>\n",
       "      <td>Snack Foods</td>\n",
       "      <td>141.3154</td>\n",
       "      <td>OUT046</td>\n",
       "      <td>1997</td>\n",
       "      <td>Small</td>\n",
       "      <td>Tier 1</td>\n",
       "      <td>Supermarket Type1</td>\n",
       "    </tr>\n",
       "    <tr>\n",
       "      <th>5677</th>\n",
       "      <td>FDD47</td>\n",
       "      <td>7.6</td>\n",
       "      <td>Regular</td>\n",
       "      <td>0.142991</td>\n",
       "      <td>Starchy Foods</td>\n",
       "      <td>169.1448</td>\n",
       "      <td>OUT018</td>\n",
       "      <td>2009</td>\n",
       "      <td>Medium</td>\n",
       "      <td>Tier 3</td>\n",
       "      <td>Supermarket Type2</td>\n",
       "    </tr>\n",
       "    <tr>\n",
       "      <th>5678</th>\n",
       "      <td>NCO17</td>\n",
       "      <td>10.0</td>\n",
       "      <td>Low Fat</td>\n",
       "      <td>0.073529</td>\n",
       "      <td>Health and Hygiene</td>\n",
       "      <td>118.7440</td>\n",
       "      <td>OUT045</td>\n",
       "      <td>2002</td>\n",
       "      <td>NaN</td>\n",
       "      <td>Tier 2</td>\n",
       "      <td>Supermarket Type1</td>\n",
       "    </tr>\n",
       "    <tr>\n",
       "      <th>5679</th>\n",
       "      <td>FDJ26</td>\n",
       "      <td>15.3</td>\n",
       "      <td>Regular</td>\n",
       "      <td>0.000000</td>\n",
       "      <td>Canned</td>\n",
       "      <td>214.6218</td>\n",
       "      <td>OUT017</td>\n",
       "      <td>2007</td>\n",
       "      <td>NaN</td>\n",
       "      <td>Tier 2</td>\n",
       "      <td>Supermarket Type1</td>\n",
       "    </tr>\n",
       "    <tr>\n",
       "      <th>5680</th>\n",
       "      <td>FDU37</td>\n",
       "      <td>9.5</td>\n",
       "      <td>Regular</td>\n",
       "      <td>0.104720</td>\n",
       "      <td>Canned</td>\n",
       "      <td>79.7960</td>\n",
       "      <td>OUT045</td>\n",
       "      <td>2002</td>\n",
       "      <td>NaN</td>\n",
       "      <td>Tier 2</td>\n",
       "      <td>Supermarket Type1</td>\n",
       "    </tr>\n",
       "  </tbody>\n",
       "</table>\n",
       "</div>"
      ],
      "text/plain": [
       "     Item_Identifier  Item_Weight Item_Fat_Content  Item_Visibility  \\\n",
       "5676           FDB58         10.5          Regular         0.013496   \n",
       "5677           FDD47          7.6          Regular         0.142991   \n",
       "5678           NCO17         10.0          Low Fat         0.073529   \n",
       "5679           FDJ26         15.3          Regular         0.000000   \n",
       "5680           FDU37          9.5          Regular         0.104720   \n",
       "\n",
       "               Item_Type  Item_MRP Outlet_Identifier  \\\n",
       "5676         Snack Foods  141.3154            OUT046   \n",
       "5677       Starchy Foods  169.1448            OUT018   \n",
       "5678  Health and Hygiene  118.7440            OUT045   \n",
       "5679              Canned  214.6218            OUT017   \n",
       "5680              Canned   79.7960            OUT045   \n",
       "\n",
       "      Outlet_Establishment_Year Outlet_Size Outlet_Location_Type  \\\n",
       "5676                       1997       Small               Tier 1   \n",
       "5677                       2009      Medium               Tier 3   \n",
       "5678                       2002         NaN               Tier 2   \n",
       "5679                       2007         NaN               Tier 2   \n",
       "5680                       2002         NaN               Tier 2   \n",
       "\n",
       "            Outlet_Type  \n",
       "5676  Supermarket Type1  \n",
       "5677  Supermarket Type2  \n",
       "5678  Supermarket Type1  \n",
       "5679  Supermarket Type1  \n",
       "5680  Supermarket Type1  "
      ]
     },
     "execution_count": 7,
     "metadata": {},
     "output_type": "execute_result"
    }
   ],
   "source": [
    "test.tail()"
   ]
  },
  {
   "cell_type": "code",
   "execution_count": 8,
   "metadata": {},
   "outputs": [
    {
     "data": {
      "text/plain": [
       "((8523, 12), (5681, 11))"
      ]
     },
     "execution_count": 8,
     "metadata": {},
     "output_type": "execute_result"
    }
   ],
   "source": [
    "# Shape of the Data\n",
    "train.shape, test.shape"
   ]
  },
  {
   "cell_type": "code",
   "execution_count": 9,
   "metadata": {},
   "outputs": [
    {
     "data": {
      "text/plain": [
       "Index(['Item_Identifier', 'Item_Weight', 'Item_Fat_Content', 'Item_Visibility',\n",
       "       'Item_Type', 'Item_MRP', 'Outlet_Identifier',\n",
       "       'Outlet_Establishment_Year', 'Outlet_Size', 'Outlet_Location_Type',\n",
       "       'Outlet_Type', 'Item_Outlet_Sales'],\n",
       "      dtype='object')"
      ]
     },
     "execution_count": 9,
     "metadata": {},
     "output_type": "execute_result"
    }
   ],
   "source": [
    "train.columns # List of columns"
   ]
  },
  {
   "cell_type": "code",
   "execution_count": 10,
   "metadata": {},
   "outputs": [
    {
     "data": {
      "text/plain": [
       "Index(['Item_Identifier', 'Item_Weight', 'Item_Fat_Content', 'Item_Visibility',\n",
       "       'Item_Type', 'Item_MRP', 'Outlet_Identifier',\n",
       "       'Outlet_Establishment_Year', 'Outlet_Size', 'Outlet_Location_Type',\n",
       "       'Outlet_Type'],\n",
       "      dtype='object')"
      ]
     },
     "execution_count": 10,
     "metadata": {},
     "output_type": "execute_result"
    }
   ],
   "source": [
    "test.columns"
   ]
  },
  {
   "cell_type": "code",
   "execution_count": 11,
   "metadata": {},
   "outputs": [
    {
     "name": "stdout",
     "output_type": "stream",
     "text": [
      "<class 'pandas.core.frame.DataFrame'>\n",
      "RangeIndex: 8523 entries, 0 to 8522\n",
      "Data columns (total 12 columns):\n",
      "Item_Identifier              8523 non-null object\n",
      "Item_Weight                  7060 non-null float64\n",
      "Item_Fat_Content             8523 non-null object\n",
      "Item_Visibility              8523 non-null float64\n",
      "Item_Type                    8523 non-null object\n",
      "Item_MRP                     8523 non-null float64\n",
      "Outlet_Identifier            8523 non-null object\n",
      "Outlet_Establishment_Year    8523 non-null int64\n",
      "Outlet_Size                  6113 non-null object\n",
      "Outlet_Location_Type         8523 non-null object\n",
      "Outlet_Type                  8523 non-null object\n",
      "Item_Outlet_Sales            8523 non-null float64\n",
      "dtypes: float64(4), int64(1), object(7)\n",
      "memory usage: 799.1+ KB\n"
     ]
    }
   ],
   "source": [
    "# Info of Dataset\n",
    "train.info()"
   ]
  },
  {
   "cell_type": "code",
   "execution_count": 14,
   "metadata": {},
   "outputs": [
    {
     "data": {
      "text/plain": [
       "Item_Weight    1463\n",
       "Outlet_Size    2410\n",
       "dtype: int64"
      ]
     },
     "execution_count": 14,
     "metadata": {},
     "output_type": "execute_result"
    }
   ],
   "source": [
    "# Count of Missing Values\n",
    "train.isnull().sum()[train.isnull().sum()!=0]"
   ]
  },
  {
   "cell_type": "code",
   "execution_count": 15,
   "metadata": {},
   "outputs": [
    {
     "data": {
      "text/plain": [
       "Item_Weight     976\n",
       "Outlet_Size    1606\n",
       "dtype: int64"
      ]
     },
     "execution_count": 15,
     "metadata": {},
     "output_type": "execute_result"
    }
   ],
   "source": [
    "test.isnull().sum()[test.isnull().sum()!=0]"
   ]
  },
  {
   "cell_type": "markdown",
   "metadata": {},
   "source": [
    "### Univariate Analysis - Numerical Columns"
   ]
  },
  {
   "cell_type": "code",
   "execution_count": 16,
   "metadata": {},
   "outputs": [
    {
     "data": {
      "text/html": [
       "<div>\n",
       "<style scoped>\n",
       "    .dataframe tbody tr th:only-of-type {\n",
       "        vertical-align: middle;\n",
       "    }\n",
       "\n",
       "    .dataframe tbody tr th {\n",
       "        vertical-align: top;\n",
       "    }\n",
       "\n",
       "    .dataframe thead th {\n",
       "        text-align: right;\n",
       "    }\n",
       "</style>\n",
       "<table border=\"1\" class=\"dataframe\">\n",
       "  <thead>\n",
       "    <tr style=\"text-align: right;\">\n",
       "      <th></th>\n",
       "      <th>Item_Identifier</th>\n",
       "      <th>Item_Weight</th>\n",
       "      <th>Item_Fat_Content</th>\n",
       "      <th>Item_Visibility</th>\n",
       "      <th>Item_Type</th>\n",
       "      <th>Item_MRP</th>\n",
       "      <th>Outlet_Identifier</th>\n",
       "      <th>Outlet_Establishment_Year</th>\n",
       "      <th>Outlet_Size</th>\n",
       "      <th>Outlet_Location_Type</th>\n",
       "      <th>Outlet_Type</th>\n",
       "      <th>Item_Outlet_Sales</th>\n",
       "    </tr>\n",
       "  </thead>\n",
       "  <tbody>\n",
       "    <tr>\n",
       "      <th>0</th>\n",
       "      <td>FDA15</td>\n",
       "      <td>9.3</td>\n",
       "      <td>Low Fat</td>\n",
       "      <td>0.016047</td>\n",
       "      <td>Dairy</td>\n",
       "      <td>249.8092</td>\n",
       "      <td>OUT049</td>\n",
       "      <td>1999</td>\n",
       "      <td>Medium</td>\n",
       "      <td>Tier 1</td>\n",
       "      <td>Supermarket Type1</td>\n",
       "      <td>3735.138</td>\n",
       "    </tr>\n",
       "  </tbody>\n",
       "</table>\n",
       "</div>"
      ],
      "text/plain": [
       "  Item_Identifier  Item_Weight Item_Fat_Content  Item_Visibility Item_Type  \\\n",
       "0           FDA15          9.3          Low Fat         0.016047     Dairy   \n",
       "\n",
       "   Item_MRP Outlet_Identifier  Outlet_Establishment_Year Outlet_Size  \\\n",
       "0  249.8092            OUT049                       1999      Medium   \n",
       "\n",
       "  Outlet_Location_Type        Outlet_Type  Item_Outlet_Sales  \n",
       "0               Tier 1  Supermarket Type1           3735.138  "
      ]
     },
     "execution_count": 16,
     "metadata": {},
     "output_type": "execute_result"
    }
   ],
   "source": [
    "train.head(1)"
   ]
  },
  {
   "cell_type": "code",
   "execution_count": 22,
   "metadata": {},
   "outputs": [
    {
     "data": {
      "image/png": "[encoded data removed]",
      "text/plain": [
       "<Figure size 432x288 with 1 Axes>"
      ]
     },
     "metadata": {
      "needs_background": "light"
     },
     "output_type": "display_data"
    }
   ],
   "source": [
    "# Target Variable Item_Outlet_Sales\n",
    "# Since it is Numerical, we will create a Histogram\n",
    "sns.distplot(train[\"Item_Outlet_Sales\"], color = \"hotpink\")\n",
    "plt.xlabel(\"Sales\")\n",
    "plt.ylabel(\"Frequency\")\n",
    "plt.title(\"Histogram - Item Outlet Sales\")\n",
    "plt.show()"
   ]
  },
  {
   "cell_type": "markdown",
   "metadata": {},
   "source": [
    "##### Inference\n",
    "\n",
    "1. Sales appears to be skewed which means that there is a presence of Outlier in the Data.\n",
    "\n",
    "2. In Positively Skewed Data, Mean>Median>Mode and reverse for -vely skewed data."
   ]
  },
  {
   "cell_type": "code",
   "execution_count": 18,
   "metadata": {},
   "outputs": [
    {
     "data": {
      "text/plain": [
       "2181.2889135750365"
      ]
     },
     "execution_count": 18,
     "metadata": {},
     "output_type": "execute_result"
    }
   ],
   "source": [
    "train.Item_Outlet_Sales.mean()"
   ]
  },
  {
   "cell_type": "code",
   "execution_count": 19,
   "metadata": {},
   "outputs": [
    {
     "data": {
      "text/plain": [
       "1794.3310000000001"
      ]
     },
     "execution_count": 19,
     "metadata": {},
     "output_type": "execute_result"
    }
   ],
   "source": [
    "train.Item_Outlet_Sales.median()"
   ]
  },
  {
   "cell_type": "code",
   "execution_count": 20,
   "metadata": {},
   "outputs": [
    {
     "data": {
      "text/plain": [
       "count     8523.000000\n",
       "mean      2181.288914\n",
       "std       1706.499616\n",
       "min         33.290000\n",
       "25%        834.247400\n",
       "50%       1794.331000\n",
       "75%       3101.296400\n",
       "max      13086.964800\n",
       "Name: Item_Outlet_Sales, dtype: float64"
      ]
     },
     "execution_count": 20,
     "metadata": {},
     "output_type": "execute_result"
    }
   ],
   "source": [
    "# Summary Statistics\n",
    "train.Item_Outlet_Sales.describe()"
   ]
  },
  {
   "cell_type": "code",
   "execution_count": 25,
   "metadata": {},
   "outputs": [
    {
     "data": {
      "image/png": "[encoded data removed]",
      "text/plain": [
       "<Figure size 432x288 with 1 Axes>"
      ]
     },
     "metadata": {
      "needs_background": "light"
     },
     "output_type": "display_data"
    }
   ],
   "source": [
    "# Item Weight\n",
    "sns.distplot(train[\"Item_Weight\"].dropna(), color = \"red\")\n",
    "plt.xlabel(\"Item Weight\")\n",
    "plt.ylabel(\"Frequency\")\n",
    "plt.title(\"Histogram - Item Weight\")\n",
    "plt.show()"
   ]
  },
  {
   "cell_type": "code",
   "execution_count": 27,
   "metadata": {},
   "outputs": [
    {
     "data": {
      "image/png": "[encoded data removed]",
      "text/plain": [
       "<Figure size 432x288 with 1 Axes>"
      ]
     },
     "metadata": {
      "needs_background": "light"
     },
     "output_type": "display_data"
    }
   ],
   "source": [
    "# Item Visibility\n",
    "sns.distplot(train[\"Item_Visibility\"], color = \"blue\")\n",
    "plt.xlabel(\"Item Visibility\")\n",
    "plt.ylabel(\"Frequency\")\n",
    "plt.title(\"Histogram - Item Visibility\")\n",
    "plt.show()"
   ]
  },
  {
   "cell_type": "code",
   "execution_count": 29,
   "metadata": {},
   "outputs": [
    {
     "data": {
      "image/png": "[encoded data removed]",
      "text/plain": [
       "<Figure size 432x288 with 1 Axes>"
      ]
     },
     "metadata": {
      "needs_background": "light"
     },
     "output_type": "display_data"
    }
   ],
   "source": [
    "# Item MRP\n",
    "sns.distplot(train[\"Item_MRP\"], color = \"brown\")\n",
    "plt.xlabel(\"Item MRP\")\n",
    "plt.ylabel(\"Frequency\")\n",
    "plt.title(\"Histogram - Item MRP\")\n",
    "plt.show()"
   ]
  },
  {
   "cell_type": "code",
   "execution_count": 36,
   "metadata": {},
   "outputs": [
    {
     "data": {
      "text/html": [
       "<div>\n",
       "<style scoped>\n",
       "    .dataframe tbody tr th:only-of-type {\n",
       "        vertical-align: middle;\n",
       "    }\n",
       "\n",
       "    .dataframe tbody tr th {\n",
       "        vertical-align: top;\n",
       "    }\n",
       "\n",
       "    .dataframe thead th {\n",
       "        text-align: right;\n",
       "    }\n",
       "</style>\n",
       "<table border=\"1\" class=\"dataframe\">\n",
       "  <thead>\n",
       "    <tr style=\"text-align: right;\">\n",
       "      <th></th>\n",
       "      <th>Item_Identifier</th>\n",
       "      <th>Item_Weight</th>\n",
       "      <th>Item_Fat_Content</th>\n",
       "      <th>Item_Visibility</th>\n",
       "      <th>Item_Type</th>\n",
       "      <th>Item_MRP</th>\n",
       "      <th>Outlet_Identifier</th>\n",
       "      <th>Outlet_Establishment_Year</th>\n",
       "      <th>Outlet_Size</th>\n",
       "      <th>Outlet_Location_Type</th>\n",
       "      <th>Outlet_Type</th>\n",
       "      <th>Item_Outlet_Sales</th>\n",
       "    </tr>\n",
       "  </thead>\n",
       "  <tbody>\n",
       "    <tr>\n",
       "      <th>0</th>\n",
       "      <td>FDA15</td>\n",
       "      <td>9.3</td>\n",
       "      <td>Low Fat</td>\n",
       "      <td>0.016047</td>\n",
       "      <td>Dairy</td>\n",
       "      <td>249.8092</td>\n",
       "      <td>OUT049</td>\n",
       "      <td>1999</td>\n",
       "      <td>Medium</td>\n",
       "      <td>Tier 1</td>\n",
       "      <td>Supermarket Type1</td>\n",
       "      <td>3735.138</td>\n",
       "    </tr>\n",
       "  </tbody>\n",
       "</table>\n",
       "</div>"
      ],
      "text/plain": [
       "  Item_Identifier  Item_Weight Item_Fat_Content  Item_Visibility Item_Type  \\\n",
       "0           FDA15          9.3          Low Fat         0.016047     Dairy   \n",
       "\n",
       "   Item_MRP Outlet_Identifier  Outlet_Establishment_Year Outlet_Size  \\\n",
       "0  249.8092            OUT049                       1999      Medium   \n",
       "\n",
       "  Outlet_Location_Type        Outlet_Type  Item_Outlet_Sales  \n",
       "0               Tier 1  Supermarket Type1           3735.138  "
      ]
     },
     "execution_count": 36,
     "metadata": {},
     "output_type": "execute_result"
    }
   ],
   "source": [
    "train.head(1)"
   ]
  },
  {
   "cell_type": "markdown",
   "metadata": {},
   "source": [
    "### Univariate Analysis - Categorical Columns"
   ]
  },
  {
   "cell_type": "code",
   "execution_count": 43,
   "metadata": {},
   "outputs": [
    {
     "data": {
      "text/plain": [
       "<matplotlib.axes._subplots.AxesSubplot at 0x239c322e278>"
      ]
     },
     "execution_count": 43,
     "metadata": {},
     "output_type": "execute_result"
    },
    {
     "data": {
      "image/png": "[encoded data removed]",
      "text/plain": [
       "<Figure size 432x288 with 1 Axes>"
      ]
     },
     "metadata": {
      "needs_background": "light"
     },
     "output_type": "display_data"
    }
   ],
   "source": [
    "train.Item_Fat_Content.value_counts().plot(kind = \"bar\", color = \"hotpink\")"
   ]
  },
  {
   "cell_type": "code",
   "execution_count": 42,
   "metadata": {},
   "outputs": [],
   "source": [
    "train.Item_Fat_Content.replace(to_replace=['reg'], \n",
    "                               value = [\"Regular\"], inplace = True)"
   ]
  },
  {
   "cell_type": "code",
   "execution_count": 44,
   "metadata": {},
   "outputs": [],
   "source": [
    "test.Item_Fat_Content.replace(to_replace=['reg'], \n",
    "                               value = [\"Regular\"], inplace = True)"
   ]
  },
  {
   "cell_type": "code",
   "execution_count": 47,
   "metadata": {
    "scrolled": true
   },
   "outputs": [
    {
     "data": {
      "text/plain": [
       "Low Fat    3668\n",
       "Regular    2013\n",
       "Name: Item_Fat_Content, dtype: int64"
      ]
     },
     "execution_count": 47,
     "metadata": {},
     "output_type": "execute_result"
    }
   ],
   "source": [
    "test.Item_Fat_Content.value_counts()"
   ]
  },
  {
   "cell_type": "code",
   "execution_count": 46,
   "metadata": {},
   "outputs": [],
   "source": [
    "test.Item_Fat_Content.replace(to_replace=['LF','low fat'], \n",
    "                               value = [\"Low Fat\"]*2, inplace = True)"
   ]
  },
  {
   "cell_type": "code",
   "execution_count": 50,
   "metadata": {},
   "outputs": [],
   "source": [
    "# Combining the Dataset\n",
    "combined = pd.concat([train,test], sort = False, ignore_index = True)"
   ]
  },
  {
   "cell_type": "code",
   "execution_count": 51,
   "metadata": {},
   "outputs": [
    {
     "data": {
      "text/plain": [
       "Item_Weight          2439\n",
       "Outlet_Size          4016\n",
       "Item_Outlet_Sales    5681\n",
       "dtype: int64"
      ]
     },
     "execution_count": 51,
     "metadata": {},
     "output_type": "execute_result"
    }
   ],
   "source": [
    "combined.isnull().sum()[combined.isnull().sum()!=0]"
   ]
  },
  {
   "cell_type": "code",
   "execution_count": 52,
   "metadata": {},
   "outputs": [
    {
     "data": {
      "text/html": [
       "<div>\n",
       "<style scoped>\n",
       "    .dataframe tbody tr th:only-of-type {\n",
       "        vertical-align: middle;\n",
       "    }\n",
       "\n",
       "    .dataframe tbody tr th {\n",
       "        vertical-align: top;\n",
       "    }\n",
       "\n",
       "    .dataframe thead th {\n",
       "        text-align: right;\n",
       "    }\n",
       "</style>\n",
       "<table border=\"1\" class=\"dataframe\">\n",
       "  <thead>\n",
       "    <tr style=\"text-align: right;\">\n",
       "      <th></th>\n",
       "      <th>Item_Identifier</th>\n",
       "      <th>Item_Weight</th>\n",
       "      <th>Item_Fat_Content</th>\n",
       "      <th>Item_Visibility</th>\n",
       "      <th>Item_Type</th>\n",
       "      <th>Item_MRP</th>\n",
       "      <th>Outlet_Identifier</th>\n",
       "      <th>Outlet_Establishment_Year</th>\n",
       "      <th>Outlet_Size</th>\n",
       "      <th>Outlet_Location_Type</th>\n",
       "      <th>Outlet_Type</th>\n",
       "      <th>Item_Outlet_Sales</th>\n",
       "    </tr>\n",
       "  </thead>\n",
       "  <tbody>\n",
       "    <tr>\n",
       "      <th>0</th>\n",
       "      <td>FDA15</td>\n",
       "      <td>9.3</td>\n",
       "      <td>Low Fat</td>\n",
       "      <td>0.016047</td>\n",
       "      <td>Dairy</td>\n",
       "      <td>249.8092</td>\n",
       "      <td>OUT049</td>\n",
       "      <td>1999</td>\n",
       "      <td>Medium</td>\n",
       "      <td>Tier 1</td>\n",
       "      <td>Supermarket Type1</td>\n",
       "      <td>3735.138</td>\n",
       "    </tr>\n",
       "  </tbody>\n",
       "</table>\n",
       "</div>"
      ],
      "text/plain": [
       "  Item_Identifier  Item_Weight Item_Fat_Content  Item_Visibility Item_Type  \\\n",
       "0           FDA15          9.3          Low Fat         0.016047     Dairy   \n",
       "\n",
       "   Item_MRP Outlet_Identifier  Outlet_Establishment_Year Outlet_Size  \\\n",
       "0  249.8092            OUT049                       1999      Medium   \n",
       "\n",
       "  Outlet_Location_Type        Outlet_Type  Item_Outlet_Sales  \n",
       "0               Tier 1  Supermarket Type1           3735.138  "
      ]
     },
     "execution_count": 52,
     "metadata": {},
     "output_type": "execute_result"
    }
   ],
   "source": [
    "combined.head(1)"
   ]
  },
  {
   "cell_type": "code",
   "execution_count": 57,
   "metadata": {},
   "outputs": [
    {
     "data": {
      "text/plain": [
       "<matplotlib.axes._subplots.AxesSubplot at 0x239c30957f0>"
      ]
     },
     "execution_count": 57,
     "metadata": {},
     "output_type": "execute_result"
    },
    {
     "data": {
      "image/png": "[encoded data removed]",
      "text/plain": [
       "<Figure size 432x288 with 1 Axes>"
      ]
     },
     "metadata": {
      "needs_background": "light"
     },
     "output_type": "display_data"
    }
   ],
   "source": [
    "combined.Item_Type.value_counts().plot(kind = \"bar\")"
   ]
  },
  {
   "cell_type": "code",
   "execution_count": 58,
   "metadata": {},
   "outputs": [
    {
     "data": {
      "text/plain": [
       "<matplotlib.axes._subplots.AxesSubplot at 0x239c42d7550>"
      ]
     },
     "execution_count": 58,
     "metadata": {},
     "output_type": "execute_result"
    },
    {
     "data": {
      "image/png": "[encoded data removed]",
      "text/plain": [
       "<Figure size 432x288 with 1 Axes>"
      ]
     },
     "metadata": {
      "needs_background": "light"
     },
     "output_type": "display_data"
    }
   ],
   "source": [
    "combined.Outlet_Identifier.value_counts().plot(kind = \"bar\")"
   ]
  },
  {
   "cell_type": "code",
   "execution_count": 61,
   "metadata": {},
   "outputs": [
    {
     "data": {
      "text/plain": [
       "array(['OUT049', 'OUT018', 'OUT010', 'OUT013', 'OUT027', 'OUT045',\n",
       "       'OUT017', 'OUT046', 'OUT035', 'OUT019'], dtype=object)"
      ]
     },
     "execution_count": 61,
     "metadata": {},
     "output_type": "execute_result"
    }
   ],
   "source": [
    "combined.Outlet_Identifier.unique()"
   ]
  },
  {
   "cell_type": "code",
   "execution_count": 62,
   "metadata": {},
   "outputs": [
    {
     "data": {
      "text/plain": [
       "<matplotlib.axes._subplots.AxesSubplot at 0x239c434b5c0>"
      ]
     },
     "execution_count": 62,
     "metadata": {},
     "output_type": "execute_result"
    },
    {
     "data": {
      "image/png": "[encoded data removed]",
      "text/plain": [
       "<Figure size 432x288 with 1 Axes>"
      ]
     },
     "metadata": {
      "needs_background": "light"
     },
     "output_type": "display_data"
    }
   ],
   "source": [
    "combined.Outlet_Location_Type.value_counts().plot(kind = \"bar\")"
   ]
  },
  {
   "cell_type": "code",
   "execution_count": 63,
   "metadata": {},
   "outputs": [
    {
     "data": {
      "text/plain": [
       "<matplotlib.axes._subplots.AxesSubplot at 0x239c43a1898>"
      ]
     },
     "execution_count": 63,
     "metadata": {},
     "output_type": "execute_result"
    },
    {
     "data": {
      "image/png": "[encoded data removed]",
      "text/plain": [
       "<Figure size 432x288 with 1 Axes>"
      ]
     },
     "metadata": {
      "needs_background": "light"
     },
     "output_type": "display_data"
    }
   ],
   "source": [
    "combined.Outlet_Type.value_counts().plot(kind = \"bar\")"
   ]
  },
  {
   "cell_type": "code",
   "execution_count": 64,
   "metadata": {},
   "outputs": [
    {
     "data": {
      "text/plain": [
       "<matplotlib.axes._subplots.AxesSubplot at 0x239c3275f28>"
      ]
     },
     "execution_count": 64,
     "metadata": {},
     "output_type": "execute_result"
    },
    {
     "data": {
      "image/png": "[encoded data removed]",
      "text/plain": [
       "<Figure size 432x288 with 1 Axes>"
      ]
     },
     "metadata": {
      "needs_background": "light"
     },
     "output_type": "display_data"
    }
   ],
   "source": [
    "combined.Outlet_Size.value_counts().plot(kind = \"bar\")"
   ]
  },
  {
   "cell_type": "markdown",
   "metadata": {},
   "source": [
    "#### Summary - Univariate Analysis\n",
    "\n",
    "1. Sales is skewed becuase of presence of outliers.\n",
    "\n",
    "2. Item Weight has lots of Missing Values and shows no pattern in histogram.\n",
    "\n",
    "3. Item MRP shows 04 data distributions. Need to explore more.\n",
    "\n",
    "4. There are two types of Products sold - Regular and Low Fat\n",
    "\n",
    "5. Item Visibility has lots of 0 values - Need to Treat this and it is skewed which means that there are products which have higher visibility in comparison to others.\n",
    "\n",
    "6. Outlet Size is mostly \"Medium\" wherein the Type of Outlets is \"S1\" and most of the cities where these stores are opened are \"Tier 3\" cities.\n",
    "\n",
    "7. The Top 5 products that sell in these stores are Fruits and Veggies, Snack Foods, Dairy, Frozen Food followed by Household Items.\n",
    "\n"
   ]
  },
  {
   "cell_type": "markdown",
   "metadata": {},
   "source": [
    "### Bivariate Analysis - Numerical vs Numerical"
   ]
  },
  {
   "cell_type": "code",
   "execution_count": 65,
   "metadata": {},
   "outputs": [
    {
     "data": {
      "text/html": [
       "<div>\n",
       "<style scoped>\n",
       "    .dataframe tbody tr th:only-of-type {\n",
       "        vertical-align: middle;\n",
       "    }\n",
       "\n",
       "    .dataframe tbody tr th {\n",
       "        vertical-align: top;\n",
       "    }\n",
       "\n",
       "    .dataframe thead th {\n",
       "        text-align: right;\n",
       "    }\n",
       "</style>\n",
       "<table border=\"1\" class=\"dataframe\">\n",
       "  <thead>\n",
       "    <tr style=\"text-align: right;\">\n",
       "      <th></th>\n",
       "      <th>Item_Identifier</th>\n",
       "      <th>Item_Weight</th>\n",
       "      <th>Item_Fat_Content</th>\n",
       "      <th>Item_Visibility</th>\n",
       "      <th>Item_Type</th>\n",
       "      <th>Item_MRP</th>\n",
       "      <th>Outlet_Identifier</th>\n",
       "      <th>Outlet_Establishment_Year</th>\n",
       "      <th>Outlet_Size</th>\n",
       "      <th>Outlet_Location_Type</th>\n",
       "      <th>Outlet_Type</th>\n",
       "      <th>Item_Outlet_Sales</th>\n",
       "    </tr>\n",
       "  </thead>\n",
       "  <tbody>\n",
       "    <tr>\n",
       "      <th>0</th>\n",
       "      <td>FDA15</td>\n",
       "      <td>9.3</td>\n",
       "      <td>Low Fat</td>\n",
       "      <td>0.016047</td>\n",
       "      <td>Dairy</td>\n",
       "      <td>249.8092</td>\n",
       "      <td>OUT049</td>\n",
       "      <td>1999</td>\n",
       "      <td>Medium</td>\n",
       "      <td>Tier 1</td>\n",
       "      <td>Supermarket Type1</td>\n",
       "      <td>3735.138</td>\n",
       "    </tr>\n",
       "  </tbody>\n",
       "</table>\n",
       "</div>"
      ],
      "text/plain": [
       "  Item_Identifier  Item_Weight Item_Fat_Content  Item_Visibility Item_Type  \\\n",
       "0           FDA15          9.3          Low Fat         0.016047     Dairy   \n",
       "\n",
       "   Item_MRP Outlet_Identifier  Outlet_Establishment_Year Outlet_Size  \\\n",
       "0  249.8092            OUT049                       1999      Medium   \n",
       "\n",
       "  Outlet_Location_Type        Outlet_Type  Item_Outlet_Sales  \n",
       "0               Tier 1  Supermarket Type1           3735.138  "
      ]
     },
     "execution_count": 65,
     "metadata": {},
     "output_type": "execute_result"
    }
   ],
   "source": [
    "train.head(1)"
   ]
  },
  {
   "cell_type": "code",
   "execution_count": 67,
   "metadata": {},
   "outputs": [
    {
     "data": {
      "image/png": "[encoded data removed]",
      "text/plain": [
       "<Figure size 432x288 with 1 Axes>"
      ]
     },
     "metadata": {
      "needs_background": "light"
     },
     "output_type": "display_data"
    }
   ],
   "source": [
    "# Item Weight vs Sales\n",
    "plt.scatter(combined.Item_Weight, \n",
    "            combined.Item_Outlet_Sales, color = \"coral\")\n",
    "plt.xlabel(\"Item Weight\")\n",
    "plt.ylabel(\"Item Outlet Sales\")\n",
    "plt.title(\"Scatterplot - Weight Vs Sales\")\n",
    "plt.show()"
   ]
  },
  {
   "cell_type": "code",
   "execution_count": 71,
   "metadata": {},
   "outputs": [
    {
     "data": {
      "image/png": "[encoded data removed]",
      "text/plain": [
       "<Figure size 792x504 with 1 Axes>"
      ]
     },
     "metadata": {
      "needs_background": "light"
     },
     "output_type": "display_data"
    }
   ],
   "source": [
    "# Item Visibility vs Sales]\n",
    "plt.figure(figsize = [11,7])\n",
    "plt.scatter(combined.Item_Visibility, \n",
    "            combined.Item_Outlet_Sales, color = \"red\")\n",
    "plt.xlabel(\"Item Visibility\")\n",
    "plt.ylabel(\"Item Outlet Sales\")\n",
    "plt.title(\"Scatterplot - Visibility Vs Sales\")\n",
    "plt.show()"
   ]
  },
  {
   "cell_type": "code",
   "execution_count": 77,
   "metadata": {},
   "outputs": [
    {
     "data": {
      "image/png": "[encoded data removed]",
      "text/plain": [
       "<Figure size 432x288 with 1 Axes>"
      ]
     },
     "metadata": {
      "needs_background": "light"
     },
     "output_type": "display_data"
    }
   ],
   "source": [
    "# Item MRP vs Sales\n",
    "plt.figure(figsize = [6,4]) # Dimensions of the Plot\n",
    "plt.scatter(combined.Item_MRP, \n",
    "            combined.Item_Outlet_Sales, color = \"red\")\n",
    "plt.xlabel(\"Item MRP\")\n",
    "plt.ylabel(\"Item Outlet Sales\")\n",
    "plt.title(\"Scatterplot - MRP Vs Sales\")\n",
    "plt.show()"
   ]
  },
  {
   "cell_type": "markdown",
   "metadata": {},
   "source": [
    "#### Bivariate - Categorical Vs Numerical"
   ]
  },
  {
   "cell_type": "code",
   "execution_count": 88,
   "metadata": {},
   "outputs": [
    {
     "data": {
      "image/png": "[encoded data removed]",
      "text/plain": [
       "<Figure size 432x288 with 1 Axes>"
      ]
     },
     "metadata": {
      "needs_background": "light"
     },
     "output_type": "display_data"
    }
   ],
   "source": [
    "# Item Fat Content Vs Sales\n",
    "sns.boxplot(x = \"Item_Fat_Content\",\n",
    "           y = \"Item_Outlet_Sales\", data =  combined)\n",
    "plt.xlabel(\"Item Fat Content\")\n",
    "plt.ylabel(\"Item Outlet Sales\")\n",
    "plt.title(\"Boxplot - Fat Content Vs Sales\")\n",
    "plt.show()"
   ]
  },
  {
   "cell_type": "code",
   "execution_count": 87,
   "metadata": {},
   "outputs": [
    {
     "data": {
      "text/html": [
       "<div>\n",
       "<style scoped>\n",
       "    .dataframe tbody tr th:only-of-type {\n",
       "        vertical-align: middle;\n",
       "    }\n",
       "\n",
       "    .dataframe tbody tr th {\n",
       "        vertical-align: top;\n",
       "    }\n",
       "\n",
       "    .dataframe thead th {\n",
       "        text-align: right;\n",
       "    }\n",
       "</style>\n",
       "<table border=\"1\" class=\"dataframe\">\n",
       "  <thead>\n",
       "    <tr style=\"text-align: right;\">\n",
       "      <th>Item_Fat_Content</th>\n",
       "      <th>Low Fat</th>\n",
       "      <th>Regular</th>\n",
       "    </tr>\n",
       "  </thead>\n",
       "  <tbody>\n",
       "    <tr>\n",
       "      <th>count</th>\n",
       "      <td>5517.000000</td>\n",
       "      <td>3006.000000</td>\n",
       "    </tr>\n",
       "    <tr>\n",
       "      <th>mean</th>\n",
       "      <td>2157.711534</td>\n",
       "      <td>2224.561170</td>\n",
       "    </tr>\n",
       "    <tr>\n",
       "      <th>std</th>\n",
       "      <td>1697.973824</td>\n",
       "      <td>1721.480865</td>\n",
       "    </tr>\n",
       "    <tr>\n",
       "      <th>min</th>\n",
       "      <td>33.290000</td>\n",
       "      <td>33.955800</td>\n",
       "    </tr>\n",
       "    <tr>\n",
       "      <th>25%</th>\n",
       "      <td>826.257800</td>\n",
       "      <td>857.550400</td>\n",
       "    </tr>\n",
       "    <tr>\n",
       "      <th>50%</th>\n",
       "      <td>1765.035800</td>\n",
       "      <td>1844.598900</td>\n",
       "    </tr>\n",
       "    <tr>\n",
       "      <th>75%</th>\n",
       "      <td>3050.695600</td>\n",
       "      <td>3198.669650</td>\n",
       "    </tr>\n",
       "    <tr>\n",
       "      <th>max</th>\n",
       "      <td>13086.964800</td>\n",
       "      <td>12117.560000</td>\n",
       "    </tr>\n",
       "  </tbody>\n",
       "</table>\n",
       "</div>"
      ],
      "text/plain": [
       "Item_Fat_Content       Low Fat       Regular\n",
       "count              5517.000000   3006.000000\n",
       "mean               2157.711534   2224.561170\n",
       "std                1697.973824   1721.480865\n",
       "min                  33.290000     33.955800\n",
       "25%                 826.257800    857.550400\n",
       "50%                1765.035800   1844.598900\n",
       "75%                3050.695600   3198.669650\n",
       "max               13086.964800  12117.560000"
      ]
     },
     "execution_count": 87,
     "metadata": {},
     "output_type": "execute_result"
    }
   ],
   "source": [
    "combined.groupby(\"Item_Fat_Content\")[\"Item_Outlet_Sales\"].describe().T"
   ]
  },
  {
   "cell_type": "code",
   "execution_count": 95,
   "metadata": {},
   "outputs": [
    {
     "data": {
      "image/png": "[encoded data removed]",
      "text/plain": [
       "<Figure size 576x360 with 1 Axes>"
      ]
     },
     "metadata": {
      "needs_background": "light"
     },
     "output_type": "display_data"
    }
   ],
   "source": [
    "# Item Type Vs Sales\n",
    "plt.figure(figsize = [8,5])\n",
    "sns.boxplot(x = \"Item_Type\",\n",
    "           y = \"Item_Outlet_Sales\", data =  combined)\n",
    "plt.xticks(rotation = 90) # rotation of the x axis values\n",
    "plt.xlabel(\"Item Type\")\n",
    "plt.ylabel(\"Item Outlet Sales\")\n",
    "plt.title(\"Boxplot - Item Type Vs Sales\")\n",
    "plt.show()"
   ]
  },
  {
   "cell_type": "code",
   "execution_count": 97,
   "metadata": {},
   "outputs": [
    {
     "data": {
      "text/html": [
       "<div>\n",
       "<style scoped>\n",
       "    .dataframe tbody tr th:only-of-type {\n",
       "        vertical-align: middle;\n",
       "    }\n",
       "\n",
       "    .dataframe tbody tr th {\n",
       "        vertical-align: top;\n",
       "    }\n",
       "\n",
       "    .dataframe thead th {\n",
       "        text-align: right;\n",
       "    }\n",
       "</style>\n",
       "<table border=\"1\" class=\"dataframe\">\n",
       "  <thead>\n",
       "    <tr style=\"text-align: right;\">\n",
       "      <th>Item_Type</th>\n",
       "      <th>Baking Goods</th>\n",
       "      <th>Breads</th>\n",
       "      <th>Breakfast</th>\n",
       "      <th>Canned</th>\n",
       "      <th>Dairy</th>\n",
       "      <th>Frozen Foods</th>\n",
       "      <th>Fruits and Vegetables</th>\n",
       "      <th>Hard Drinks</th>\n",
       "      <th>Health and Hygiene</th>\n",
       "      <th>Household</th>\n",
       "      <th>Meat</th>\n",
       "      <th>Others</th>\n",
       "      <th>Seafood</th>\n",
       "      <th>Snack Foods</th>\n",
       "      <th>Soft Drinks</th>\n",
       "      <th>Starchy Foods</th>\n",
       "    </tr>\n",
       "  </thead>\n",
       "  <tbody>\n",
       "    <tr>\n",
       "      <th>count</th>\n",
       "      <td>648.000000</td>\n",
       "      <td>251.000000</td>\n",
       "      <td>110.000000</td>\n",
       "      <td>649.000000</td>\n",
       "      <td>682.000000</td>\n",
       "      <td>856.000000</td>\n",
       "      <td>1232.000000</td>\n",
       "      <td>214.000000</td>\n",
       "      <td>520.000000</td>\n",
       "      <td>910.000000</td>\n",
       "      <td>425.000000</td>\n",
       "      <td>169.000000</td>\n",
       "      <td>64.000000</td>\n",
       "      <td>1200.000000</td>\n",
       "      <td>445.000000</td>\n",
       "      <td>148.000000</td>\n",
       "    </tr>\n",
       "    <tr>\n",
       "      <th>mean</th>\n",
       "      <td>1952.971207</td>\n",
       "      <td>2204.132226</td>\n",
       "      <td>2111.808651</td>\n",
       "      <td>2225.194904</td>\n",
       "      <td>2232.542597</td>\n",
       "      <td>2132.867744</td>\n",
       "      <td>2289.009592</td>\n",
       "      <td>2139.221622</td>\n",
       "      <td>2010.000265</td>\n",
       "      <td>2258.784300</td>\n",
       "      <td>2158.977911</td>\n",
       "      <td>1926.139702</td>\n",
       "      <td>2326.065928</td>\n",
       "      <td>2277.321739</td>\n",
       "      <td>2006.511735</td>\n",
       "      <td>2374.332773</td>\n",
       "    </tr>\n",
       "    <tr>\n",
       "      <th>std</th>\n",
       "      <td>1546.788045</td>\n",
       "      <td>1644.235914</td>\n",
       "      <td>1911.693586</td>\n",
       "      <td>1645.235638</td>\n",
       "      <td>1884.404698</td>\n",
       "      <td>1724.777720</td>\n",
       "      <td>1799.503459</td>\n",
       "      <td>1606.191587</td>\n",
       "      <td>1553.633063</td>\n",
       "      <td>1692.245757</td>\n",
       "      <td>1695.231081</td>\n",
       "      <td>1431.860471</td>\n",
       "      <td>1842.988719</td>\n",
       "      <td>1705.121755</td>\n",
       "      <td>1674.249752</td>\n",
       "      <td>1773.945328</td>\n",
       "    </tr>\n",
       "    <tr>\n",
       "      <th>min</th>\n",
       "      <td>37.284800</td>\n",
       "      <td>35.287400</td>\n",
       "      <td>39.948000</td>\n",
       "      <td>37.950600</td>\n",
       "      <td>40.613800</td>\n",
       "      <td>36.619000</td>\n",
       "      <td>45.274400</td>\n",
       "      <td>37.950600</td>\n",
       "      <td>34.621600</td>\n",
       "      <td>33.290000</td>\n",
       "      <td>47.937600</td>\n",
       "      <td>39.948000</td>\n",
       "      <td>149.805000</td>\n",
       "      <td>33.955800</td>\n",
       "      <td>33.290000</td>\n",
       "      <td>58.590400</td>\n",
       "    </tr>\n",
       "    <tr>\n",
       "      <th>25%</th>\n",
       "      <td>705.082200</td>\n",
       "      <td>968.739000</td>\n",
       "      <td>679.116000</td>\n",
       "      <td>952.094000</td>\n",
       "      <td>788.973000</td>\n",
       "      <td>808.947000</td>\n",
       "      <td>884.848200</td>\n",
       "      <td>834.913200</td>\n",
       "      <td>758.845550</td>\n",
       "      <td>853.389150</td>\n",
       "      <td>782.980800</td>\n",
       "      <td>790.970400</td>\n",
       "      <td>473.383800</td>\n",
       "      <td>918.804000</td>\n",
       "      <td>771.662200</td>\n",
       "      <td>958.752000</td>\n",
       "    </tr>\n",
       "    <tr>\n",
       "      <th>50%</th>\n",
       "      <td>1577.946000</td>\n",
       "      <td>1860.245200</td>\n",
       "      <td>1554.643000</td>\n",
       "      <td>1860.245200</td>\n",
       "      <td>1650.851100</td>\n",
       "      <td>1687.137200</td>\n",
       "      <td>1830.950000</td>\n",
       "      <td>1816.635300</td>\n",
       "      <td>1669.493500</td>\n",
       "      <td>1981.420800</td>\n",
       "      <td>1829.618400</td>\n",
       "      <td>1713.769200</td>\n",
       "      <td>2055.324600</td>\n",
       "      <td>1944.136000</td>\n",
       "      <td>1518.024000</td>\n",
       "      <td>1968.104800</td>\n",
       "    </tr>\n",
       "    <tr>\n",
       "      <th>75%</th>\n",
       "      <td>2823.824250</td>\n",
       "      <td>3145.905000</td>\n",
       "      <td>2970.300250</td>\n",
       "      <td>3101.296400</td>\n",
       "      <td>3296.209350</td>\n",
       "      <td>3079.491450</td>\n",
       "      <td>3227.132600</td>\n",
       "      <td>3071.335400</td>\n",
       "      <td>2884.578500</td>\n",
       "      <td>3236.786700</td>\n",
       "      <td>3036.048000</td>\n",
       "      <td>2719.793000</td>\n",
       "      <td>3589.327800</td>\n",
       "      <td>3143.574700</td>\n",
       "      <td>2759.075200</td>\n",
       "      <td>3592.656800</td>\n",
       "    </tr>\n",
       "    <tr>\n",
       "      <th>max</th>\n",
       "      <td>7931.675400</td>\n",
       "      <td>8958.339000</td>\n",
       "      <td>8209.314000</td>\n",
       "      <td>10306.584000</td>\n",
       "      <td>10256.649000</td>\n",
       "      <td>9678.068800</td>\n",
       "      <td>12117.560000</td>\n",
       "      <td>7843.124000</td>\n",
       "      <td>9779.936200</td>\n",
       "      <td>13086.964800</td>\n",
       "      <td>9390.443200</td>\n",
       "      <td>6008.845000</td>\n",
       "      <td>6503.534400</td>\n",
       "      <td>10993.689600</td>\n",
       "      <td>9554.230000</td>\n",
       "      <td>8132.081200</td>\n",
       "    </tr>\n",
       "  </tbody>\n",
       "</table>\n",
       "</div>"
      ],
      "text/plain": [
       "Item_Type  Baking Goods       Breads    Breakfast        Canned         Dairy  \\\n",
       "count        648.000000   251.000000   110.000000    649.000000    682.000000   \n",
       "mean        1952.971207  2204.132226  2111.808651   2225.194904   2232.542597   \n",
       "std         1546.788045  1644.235914  1911.693586   1645.235638   1884.404698   \n",
       "min           37.284800    35.287400    39.948000     37.950600     40.613800   \n",
       "25%          705.082200   968.739000   679.116000    952.094000    788.973000   \n",
       "50%         1577.946000  1860.245200  1554.643000   1860.245200   1650.851100   \n",
       "75%         2823.824250  3145.905000  2970.300250   3101.296400   3296.209350   \n",
       "max         7931.675400  8958.339000  8209.314000  10306.584000  10256.649000   \n",
       "\n",
       "Item_Type  Frozen Foods  Fruits and Vegetables  Hard Drinks  \\\n",
       "count        856.000000            1232.000000   214.000000   \n",
       "mean        2132.867744            2289.009592  2139.221622   \n",
       "std         1724.777720            1799.503459  1606.191587   \n",
       "min           36.619000              45.274400    37.950600   \n",
       "25%          808.947000             884.848200   834.913200   \n",
       "50%         1687.137200            1830.950000  1816.635300   \n",
       "75%         3079.491450            3227.132600  3071.335400   \n",
       "max         9678.068800           12117.560000  7843.124000   \n",
       "\n",
       "Item_Type  Health and Hygiene     Household         Meat       Others  \\\n",
       "count              520.000000    910.000000   425.000000   169.000000   \n",
       "mean              2010.000265   2258.784300  2158.977911  1926.139702   \n",
       "std               1553.633063   1692.245757  1695.231081  1431.860471   \n",
       "min                 34.621600     33.290000    47.937600    39.948000   \n",
       "25%                758.845550    853.389150   782.980800   790.970400   \n",
       "50%               1669.493500   1981.420800  1829.618400  1713.769200   \n",
       "75%               2884.578500   3236.786700  3036.048000  2719.793000   \n",
       "max               9779.936200  13086.964800  9390.443200  6008.845000   \n",
       "\n",
       "Item_Type      Seafood   Snack Foods  Soft Drinks  Starchy Foods  \n",
       "count        64.000000   1200.000000   445.000000     148.000000  \n",
       "mean       2326.065928   2277.321739  2006.511735    2374.332773  \n",
       "std        1842.988719   1705.121755  1674.249752    1773.945328  \n",
       "min         149.805000     33.955800    33.290000      58.590400  \n",
       "25%         473.383800    918.804000   771.662200     958.752000  \n",
       "50%        2055.324600   1944.136000  1518.024000    1968.104800  \n",
       "75%        3589.327800   3143.574700  2759.075200    3592.656800  \n",
       "max        6503.534400  10993.689600  9554.230000    8132.081200  "
      ]
     },
     "execution_count": 97,
     "metadata": {},
     "output_type": "execute_result"
    }
   ],
   "source": [
    "# Statistical Summary of all the Item Types\n",
    "combined.groupby(\"Item_Type\")[\"Item_Outlet_Sales\"].describe().T"
   ]
  },
  {
   "cell_type": "code",
   "execution_count": 98,
   "metadata": {},
   "outputs": [
    {
     "data": {
      "text/plain": [
       "Index(['Item_Identifier', 'Item_Weight', 'Item_Fat_Content', 'Item_Visibility',\n",
       "       'Item_Type', 'Item_MRP', 'Outlet_Identifier',\n",
       "       'Outlet_Establishment_Year', 'Outlet_Size', 'Outlet_Location_Type',\n",
       "       'Outlet_Type', 'Item_Outlet_Sales'],\n",
       "      dtype='object')"
      ]
     },
     "execution_count": 98,
     "metadata": {},
     "output_type": "execute_result"
    }
   ],
   "source": [
    "train.columns"
   ]
  },
  {
   "cell_type": "code",
   "execution_count": 101,
   "metadata": {},
   "outputs": [
    {
     "data": {
      "image/png": "[encoded data removed]",
      "text/plain": [
       "<Figure size 432x288 with 1 Axes>"
      ]
     },
     "metadata": {
      "needs_background": "light"
     },
     "output_type": "display_data"
    }
   ],
   "source": [
    "# Item Type Vs Sales\n",
    "#plt.figure(figsize = [8,5])\n",
    "sns.boxplot(x = \"Outlet_Identifier\",\n",
    "           y = \"Item_Outlet_Sales\", data =  combined)\n",
    "plt.xticks(rotation = 90) # rotation of the x axis values\n",
    "plt.xlabel(\"Outlet_Identifier\")\n",
    "plt.ylabel(\"Item Outlet Sales\")\n",
    "plt.title(\"Boxplot - Outlet_Id Vs Sales\")\n",
    "plt.show()"
   ]
  },
  {
   "cell_type": "code",
   "execution_count": 102,
   "metadata": {},
   "outputs": [
    {
     "data": {
      "text/html": [
       "<div>\n",
       "<style scoped>\n",
       "    .dataframe tbody tr th:only-of-type {\n",
       "        vertical-align: middle;\n",
       "    }\n",
       "\n",
       "    .dataframe tbody tr th {\n",
       "        vertical-align: top;\n",
       "    }\n",
       "\n",
       "    .dataframe thead th {\n",
       "        text-align: right;\n",
       "    }\n",
       "</style>\n",
       "<table border=\"1\" class=\"dataframe\">\n",
       "  <thead>\n",
       "    <tr style=\"text-align: right;\">\n",
       "      <th>Outlet_Identifier</th>\n",
       "      <th>OUT010</th>\n",
       "      <th>OUT013</th>\n",
       "      <th>OUT017</th>\n",
       "      <th>OUT018</th>\n",
       "      <th>OUT019</th>\n",
       "      <th>OUT027</th>\n",
       "      <th>OUT035</th>\n",
       "      <th>OUT045</th>\n",
       "      <th>OUT046</th>\n",
       "      <th>OUT049</th>\n",
       "    </tr>\n",
       "  </thead>\n",
       "  <tbody>\n",
       "    <tr>\n",
       "      <th>count</th>\n",
       "      <td>555.000000</td>\n",
       "      <td>932.000000</td>\n",
       "      <td>926.000000</td>\n",
       "      <td>928.000000</td>\n",
       "      <td>528.000000</td>\n",
       "      <td>935.000000</td>\n",
       "      <td>930.000000</td>\n",
       "      <td>929.000000</td>\n",
       "      <td>930.000000</td>\n",
       "      <td>930.000000</td>\n",
       "    </tr>\n",
       "    <tr>\n",
       "      <th>mean</th>\n",
       "      <td>339.351662</td>\n",
       "      <td>2298.995256</td>\n",
       "      <td>2340.675263</td>\n",
       "      <td>1995.498739</td>\n",
       "      <td>340.329723</td>\n",
       "      <td>3694.038558</td>\n",
       "      <td>2438.841866</td>\n",
       "      <td>2192.384798</td>\n",
       "      <td>2277.844267</td>\n",
       "      <td>2348.354635</td>\n",
       "    </tr>\n",
       "    <tr>\n",
       "      <th>std</th>\n",
       "      <td>271.014855</td>\n",
       "      <td>1533.531664</td>\n",
       "      <td>1550.778025</td>\n",
       "      <td>1375.932889</td>\n",
       "      <td>249.979449</td>\n",
       "      <td>2127.760054</td>\n",
       "      <td>1538.512533</td>\n",
       "      <td>1462.399658</td>\n",
       "      <td>1488.405631</td>\n",
       "      <td>1513.289464</td>\n",
       "    </tr>\n",
       "    <tr>\n",
       "      <th>min</th>\n",
       "      <td>33.290000</td>\n",
       "      <td>73.238000</td>\n",
       "      <td>143.812800</td>\n",
       "      <td>69.243200</td>\n",
       "      <td>33.955800</td>\n",
       "      <td>241.685400</td>\n",
       "      <td>113.851800</td>\n",
       "      <td>99.870000</td>\n",
       "      <td>101.867400</td>\n",
       "      <td>111.854400</td>\n",
       "    </tr>\n",
       "    <tr>\n",
       "      <th>25%</th>\n",
       "      <td>154.132700</td>\n",
       "      <td>1072.603800</td>\n",
       "      <td>1195.943250</td>\n",
       "      <td>981.555650</td>\n",
       "      <td>153.633350</td>\n",
       "      <td>2044.338900</td>\n",
       "      <td>1238.887350</td>\n",
       "      <td>1068.609000</td>\n",
       "      <td>1137.186400</td>\n",
       "      <td>1182.793700</td>\n",
       "    </tr>\n",
       "    <tr>\n",
       "      <th>50%</th>\n",
       "      <td>250.340800</td>\n",
       "      <td>2050.664000</td>\n",
       "      <td>2005.056700</td>\n",
       "      <td>1655.178800</td>\n",
       "      <td>265.321300</td>\n",
       "      <td>3364.953200</td>\n",
       "      <td>2109.254400</td>\n",
       "      <td>1834.944800</td>\n",
       "      <td>1945.800500</td>\n",
       "      <td>1966.107400</td>\n",
       "    </tr>\n",
       "    <tr>\n",
       "      <th>75%</th>\n",
       "      <td>455.407200</td>\n",
       "      <td>3166.378350</td>\n",
       "      <td>3096.469350</td>\n",
       "      <td>2702.648650</td>\n",
       "      <td>460.733600</td>\n",
       "      <td>4975.523400</td>\n",
       "      <td>3310.357600</td>\n",
       "      <td>2929.520000</td>\n",
       "      <td>3095.637100</td>\n",
       "      <td>3281.728200</td>\n",
       "    </tr>\n",
       "    <tr>\n",
       "      <th>max</th>\n",
       "      <td>1775.688600</td>\n",
       "      <td>10256.649000</td>\n",
       "      <td>9664.752800</td>\n",
       "      <td>6768.522800</td>\n",
       "      <td>1482.070800</td>\n",
       "      <td>13086.964800</td>\n",
       "      <td>8479.628800</td>\n",
       "      <td>8994.958000</td>\n",
       "      <td>9779.936200</td>\n",
       "      <td>7646.047200</td>\n",
       "    </tr>\n",
       "  </tbody>\n",
       "</table>\n",
       "</div>"
      ],
      "text/plain": [
       "Outlet_Identifier       OUT010        OUT013       OUT017       OUT018  \\\n",
       "count               555.000000    932.000000   926.000000   928.000000   \n",
       "mean                339.351662   2298.995256  2340.675263  1995.498739   \n",
       "std                 271.014855   1533.531664  1550.778025  1375.932889   \n",
       "min                  33.290000     73.238000   143.812800    69.243200   \n",
       "25%                 154.132700   1072.603800  1195.943250   981.555650   \n",
       "50%                 250.340800   2050.664000  2005.056700  1655.178800   \n",
       "75%                 455.407200   3166.378350  3096.469350  2702.648650   \n",
       "max                1775.688600  10256.649000  9664.752800  6768.522800   \n",
       "\n",
       "Outlet_Identifier       OUT019        OUT027       OUT035       OUT045  \\\n",
       "count               528.000000    935.000000   930.000000   929.000000   \n",
       "mean                340.329723   3694.038558  2438.841866  2192.384798   \n",
       "std                 249.979449   2127.760054  1538.512533  1462.399658   \n",
       "min                  33.955800    241.685400   113.851800    99.870000   \n",
       "25%                 153.633350   2044.338900  1238.887350  1068.609000   \n",
       "50%                 265.321300   3364.953200  2109.254400  1834.944800   \n",
       "75%                 460.733600   4975.523400  3310.357600  2929.520000   \n",
       "max                1482.070800  13086.964800  8479.628800  8994.958000   \n",
       "\n",
       "Outlet_Identifier       OUT046       OUT049  \n",
       "count               930.000000   930.000000  \n",
       "mean               2277.844267  2348.354635  \n",
       "std                1488.405631  1513.289464  \n",
       "min                 101.867400   111.854400  \n",
       "25%                1137.186400  1182.793700  \n",
       "50%                1945.800500  1966.107400  \n",
       "75%                3095.637100  3281.728200  \n",
       "max                9779.936200  7646.047200  "
      ]
     },
     "execution_count": 102,
     "metadata": {},
     "output_type": "execute_result"
    }
   ],
   "source": [
    "combined.groupby(\"Outlet_Identifier\")[\"Item_Outlet_Sales\"].describe().T"
   ]
  },
  {
   "cell_type": "code",
   "execution_count": 103,
   "metadata": {},
   "outputs": [
    {
     "data": {
      "image/png": "[encoded data removed]",
      "text/plain": [
       "<Figure size 432x288 with 1 Axes>"
      ]
     },
     "metadata": {
      "needs_background": "light"
     },
     "output_type": "display_data"
    }
   ],
   "source": [
    "# Item Type Vs Sales\n",
    "#plt.figure(figsize = [8,5])\n",
    "sns.boxplot(x = \"Outlet_Size\",\n",
    "           y = \"Item_Outlet_Sales\", data =  combined)\n",
    "plt.xticks(rotation = 90) # rotation of the x axis values\n",
    "plt.xlabel(\"Outlet_Size\")\n",
    "plt.ylabel(\"Item Outlet Sales\")\n",
    "plt.title(\"Boxplot - Outlet Size Vs Sales\")\n",
    "plt.show()"
   ]
  },
  {
   "cell_type": "code",
   "execution_count": 107,
   "metadata": {},
   "outputs": [
    {
     "data": {
      "image/png": "[encoded data removed]",
      "text/plain": [
       "<Figure size 432x288 with 1 Axes>"
      ]
     },
     "metadata": {
      "needs_background": "light"
     },
     "output_type": "display_data"
    }
   ],
   "source": [
    "# Item Type Vs Sales\n",
    "#plt.figure(figsize = [8,5])\n",
    "sns.boxplot(x = \"Outlet_Location_Type\",\n",
    "           y = \"Item_Outlet_Sales\", data =  combined)\n",
    "plt.xticks(rotation = 90) # rotation of the x axis values\n",
    "plt.xlabel(\"Outlet_Location_Type\")\n",
    "plt.ylabel(\"Item Outlet Sales\")\n",
    "plt.title(\"Boxplot - Outlet_Location Vs Sales\")\n",
    "plt.show()"
   ]
  },
  {
   "cell_type": "code",
   "execution_count": 111,
   "metadata": {},
   "outputs": [
    {
     "data": {
      "text/html": [
       "<div>\n",
       "<style scoped>\n",
       "    .dataframe tbody tr th:only-of-type {\n",
       "        vertical-align: middle;\n",
       "    }\n",
       "\n",
       "    .dataframe tbody tr th {\n",
       "        vertical-align: top;\n",
       "    }\n",
       "\n",
       "    .dataframe thead tr th {\n",
       "        text-align: left;\n",
       "    }\n",
       "</style>\n",
       "<table border=\"1\" class=\"dataframe\">\n",
       "  <thead>\n",
       "    <tr>\n",
       "      <th>Outlet_Identifier</th>\n",
       "      <th>OUT013</th>\n",
       "      <th>OUT018</th>\n",
       "      <th>OUT019</th>\n",
       "      <th>OUT027</th>\n",
       "      <th>OUT035</th>\n",
       "      <th>OUT046</th>\n",
       "      <th>OUT049</th>\n",
       "    </tr>\n",
       "    <tr>\n",
       "      <th>Outlet_Location_Type</th>\n",
       "      <th>Tier 3</th>\n",
       "      <th>Tier 3</th>\n",
       "      <th>Tier 1</th>\n",
       "      <th>Tier 3</th>\n",
       "      <th>Tier 2</th>\n",
       "      <th>Tier 1</th>\n",
       "      <th>Tier 1</th>\n",
       "    </tr>\n",
       "    <tr>\n",
       "      <th>Outlet_Type</th>\n",
       "      <th>Supermarket Type1</th>\n",
       "      <th>Supermarket Type2</th>\n",
       "      <th>Grocery Store</th>\n",
       "      <th>Supermarket Type3</th>\n",
       "      <th>Supermarket Type1</th>\n",
       "      <th>Supermarket Type1</th>\n",
       "      <th>Supermarket Type1</th>\n",
       "    </tr>\n",
       "    <tr>\n",
       "      <th>Outlet_Size</th>\n",
       "      <th>High</th>\n",
       "      <th>Medium</th>\n",
       "      <th>Small</th>\n",
       "      <th>Medium</th>\n",
       "      <th>Small</th>\n",
       "      <th>Small</th>\n",
       "      <th>Medium</th>\n",
       "    </tr>\n",
       "  </thead>\n",
       "  <tbody>\n",
       "    <tr>\n",
       "      <th>Outlet_Size</th>\n",
       "      <td>1553</td>\n",
       "      <td>1546</td>\n",
       "      <td>880</td>\n",
       "      <td>1559</td>\n",
       "      <td>1550</td>\n",
       "      <td>1550</td>\n",
       "      <td>1550</td>\n",
       "    </tr>\n",
       "  </tbody>\n",
       "</table>\n",
       "</div>"
      ],
      "text/plain": [
       "Outlet_Identifier               OUT013            OUT018        OUT019  \\\n",
       "Outlet_Location_Type            Tier 3            Tier 3        Tier 1   \n",
       "Outlet_Type          Supermarket Type1 Supermarket Type2 Grocery Store   \n",
       "Outlet_Size                       High            Medium         Small   \n",
       "Outlet_Size                       1553              1546           880   \n",
       "\n",
       "Outlet_Identifier               OUT027            OUT035            OUT046  \\\n",
       "Outlet_Location_Type            Tier 3            Tier 2            Tier 1   \n",
       "Outlet_Type          Supermarket Type3 Supermarket Type1 Supermarket Type1   \n",
       "Outlet_Size                     Medium             Small             Small   \n",
       "Outlet_Size                       1559              1550              1550   \n",
       "\n",
       "Outlet_Identifier               OUT049  \n",
       "Outlet_Location_Type            Tier 1  \n",
       "Outlet_Type          Supermarket Type1  \n",
       "Outlet_Size                     Medium  \n",
       "Outlet_Size                       1550  "
      ]
     },
     "execution_count": 111,
     "metadata": {},
     "output_type": "execute_result"
    }
   ],
   "source": [
    "pd.DataFrame(combined.groupby(['Outlet_Identifier', \n",
    "                               \"Outlet_Location_Type\",\n",
    "                              \"Outlet_Type\"])\n",
    "             ['Outlet_Size'].value_counts()).T"
   ]
  },
  {
   "cell_type": "code",
   "execution_count": 110,
   "metadata": {},
   "outputs": [
    {
     "data": {
      "image/png": "[encoded data removed]",
      "text/plain": [
       "<Figure size 432x288 with 1 Axes>"
      ]
     },
     "metadata": {
      "needs_background": "light"
     },
     "output_type": "display_data"
    }
   ],
   "source": [
    "sns.boxplot(x = \"Outlet_Type\",\n",
    "           y = \"Item_Outlet_Sales\", data =  combined)\n",
    "plt.xticks(rotation = 90) # rotation of the x axis values\n",
    "plt.xlabel(\"Outlet_Type\")\n",
    "plt.ylabel(\"Item Outlet Sales\")\n",
    "plt.title(\"Boxplot - Outlet Type Vs Sales\")\n",
    "plt.show()"
   ]
  },
  {
   "cell_type": "markdown",
   "metadata": {},
   "source": [
    "#### Summary - Bivariate Analysis\n",
    "\n",
    "1. Highest Performing Outlet is Outlet 27 mostly based in Tier 3 cities and are S3 Stores.\n",
    "\n",
    "2. Higher the Visibility, Lesser the Sales for the Items in the Store. This is because high visibility shows that the products are large/heavy in nature and hence people are not interested in buying them on a day to day basis. However, the Groceries, Snacks, Fruits and Veggies are daily items, although low in visibility but high in sales.\n",
    "\n",
    "3. No Pattern Seen in Item Weight Vs Sales.\n",
    "\n",
    "4. Abnormality - A Straight Line in Visibility Plot is found at 0 meaning that the sales is happening where the product is not seen/visible. Need to rectify this.\n",
    "\n",
    "5. Tier 3 Cities have better sales and S3 stores are making most of the money and of course, the size is Medium.\n"
   ]
  },
  {
   "cell_type": "markdown",
   "metadata": {},
   "source": [
    "#### Missing Values and their Imputation\n",
    "\n",
    "1. Mean/Median Imputation for Numerical Columns.\n",
    "\n",
    "2. Mode is used to impute the values where the col is categorical.\n",
    "\n",
    "3. Find out a Pattern - There must be some pattern amongst the columns. Hence, its wise to exploit the pattern and use it to your best.\n",
    "\n",
    "4. Build a Machine Learning Model to fill the Missing Values."
   ]
  },
  {
   "cell_type": "code",
   "execution_count": 112,
   "metadata": {},
   "outputs": [
    {
     "data": {
      "text/plain": [
       "Item_Weight          2439\n",
       "Outlet_Size          4016\n",
       "Item_Outlet_Sales    5681\n",
       "dtype: int64"
      ]
     },
     "execution_count": 112,
     "metadata": {},
     "output_type": "execute_result"
    }
   ],
   "source": [
    "combined.isnull().sum()[combined.isnull().sum()!=0]"
   ]
  },
  {
   "cell_type": "code",
   "execution_count": 124,
   "metadata": {},
   "outputs": [],
   "source": [
    "notna = combined.dropna()"
   ]
  },
  {
   "cell_type": "code",
   "execution_count": 137,
   "metadata": {},
   "outputs": [
    {
     "data": {
      "text/plain": [
       "<matplotlib.axes._subplots.AxesSubplot at 0x239c46abda0>"
      ]
     },
     "execution_count": 137,
     "metadata": {},
     "output_type": "execute_result"
    },
    {
     "data": {
      "image/png": "[encoded data removed]",
      "text/plain": [
       "<Figure size 432x288 with 2 Axes>"
      ]
     },
     "metadata": {
      "needs_background": "light"
     },
     "output_type": "display_data"
    }
   ],
   "source": [
    "sns.heatmap(np.corrcoef(notna.Item_Weight, notna.Item_MRP), \n",
    "           annot = True, cmap= \"coolwarm\")"
   ]
  },
  {
   "cell_type": "code",
   "execution_count": 138,
   "metadata": {},
   "outputs": [
    {
     "data": {
      "text/html": [
       "<div>\n",
       "<style scoped>\n",
       "    .dataframe tbody tr th:only-of-type {\n",
       "        vertical-align: middle;\n",
       "    }\n",
       "\n",
       "    .dataframe tbody tr th {\n",
       "        vertical-align: top;\n",
       "    }\n",
       "\n",
       "    .dataframe thead th {\n",
       "        text-align: right;\n",
       "    }\n",
       "</style>\n",
       "<table border=\"1\" class=\"dataframe\">\n",
       "  <thead>\n",
       "    <tr style=\"text-align: right;\">\n",
       "      <th></th>\n",
       "      <th>Item_Identifier</th>\n",
       "      <th>Item_Weight</th>\n",
       "      <th>Item_Fat_Content</th>\n",
       "      <th>Item_Visibility</th>\n",
       "      <th>Item_Type</th>\n",
       "      <th>Item_MRP</th>\n",
       "      <th>Outlet_Identifier</th>\n",
       "      <th>Outlet_Establishment_Year</th>\n",
       "      <th>Outlet_Size</th>\n",
       "      <th>Outlet_Location_Type</th>\n",
       "      <th>Outlet_Type</th>\n",
       "      <th>Item_Outlet_Sales</th>\n",
       "    </tr>\n",
       "  </thead>\n",
       "  <tbody>\n",
       "    <tr>\n",
       "      <th>0</th>\n",
       "      <td>FDA15</td>\n",
       "      <td>9.30</td>\n",
       "      <td>Low Fat</td>\n",
       "      <td>0.016047</td>\n",
       "      <td>Dairy</td>\n",
       "      <td>249.8092</td>\n",
       "      <td>OUT049</td>\n",
       "      <td>1999</td>\n",
       "      <td>Medium</td>\n",
       "      <td>Tier 1</td>\n",
       "      <td>Supermarket Type1</td>\n",
       "      <td>3735.1380</td>\n",
       "    </tr>\n",
       "    <tr>\n",
       "      <th>1</th>\n",
       "      <td>DRC01</td>\n",
       "      <td>5.92</td>\n",
       "      <td>Regular</td>\n",
       "      <td>0.019278</td>\n",
       "      <td>Soft Drinks</td>\n",
       "      <td>48.2692</td>\n",
       "      <td>OUT018</td>\n",
       "      <td>2009</td>\n",
       "      <td>Medium</td>\n",
       "      <td>Tier 3</td>\n",
       "      <td>Supermarket Type2</td>\n",
       "      <td>443.4228</td>\n",
       "    </tr>\n",
       "    <tr>\n",
       "      <th>2</th>\n",
       "      <td>FDN15</td>\n",
       "      <td>17.50</td>\n",
       "      <td>Low Fat</td>\n",
       "      <td>0.016760</td>\n",
       "      <td>Meat</td>\n",
       "      <td>141.6180</td>\n",
       "      <td>OUT049</td>\n",
       "      <td>1999</td>\n",
       "      <td>Medium</td>\n",
       "      <td>Tier 1</td>\n",
       "      <td>Supermarket Type1</td>\n",
       "      <td>2097.2700</td>\n",
       "    </tr>\n",
       "    <tr>\n",
       "      <th>3</th>\n",
       "      <td>FDX07</td>\n",
       "      <td>19.20</td>\n",
       "      <td>Regular</td>\n",
       "      <td>0.000000</td>\n",
       "      <td>Fruits and Vegetables</td>\n",
       "      <td>182.0950</td>\n",
       "      <td>OUT010</td>\n",
       "      <td>1998</td>\n",
       "      <td>NaN</td>\n",
       "      <td>Tier 3</td>\n",
       "      <td>Grocery Store</td>\n",
       "      <td>732.3800</td>\n",
       "    </tr>\n",
       "    <tr>\n",
       "      <th>4</th>\n",
       "      <td>NCD19</td>\n",
       "      <td>8.93</td>\n",
       "      <td>Low Fat</td>\n",
       "      <td>0.000000</td>\n",
       "      <td>Household</td>\n",
       "      <td>53.8614</td>\n",
       "      <td>OUT013</td>\n",
       "      <td>1987</td>\n",
       "      <td>High</td>\n",
       "      <td>Tier 3</td>\n",
       "      <td>Supermarket Type1</td>\n",
       "      <td>994.7052</td>\n",
       "    </tr>\n",
       "  </tbody>\n",
       "</table>\n",
       "</div>"
      ],
      "text/plain": [
       "  Item_Identifier  Item_Weight Item_Fat_Content  Item_Visibility  \\\n",
       "0           FDA15         9.30          Low Fat         0.016047   \n",
       "1           DRC01         5.92          Regular         0.019278   \n",
       "2           FDN15        17.50          Low Fat         0.016760   \n",
       "3           FDX07        19.20          Regular         0.000000   \n",
       "4           NCD19         8.93          Low Fat         0.000000   \n",
       "\n",
       "               Item_Type  Item_MRP Outlet_Identifier  \\\n",
       "0                  Dairy  249.8092            OUT049   \n",
       "1            Soft Drinks   48.2692            OUT018   \n",
       "2                   Meat  141.6180            OUT049   \n",
       "3  Fruits and Vegetables  182.0950            OUT010   \n",
       "4              Household   53.8614            OUT013   \n",
       "\n",
       "   Outlet_Establishment_Year Outlet_Size Outlet_Location_Type  \\\n",
       "0                       1999      Medium               Tier 1   \n",
       "1                       2009      Medium               Tier 3   \n",
       "2                       1999      Medium               Tier 1   \n",
       "3                       1998         NaN               Tier 3   \n",
       "4                       1987        High               Tier 3   \n",
       "\n",
       "         Outlet_Type  Item_Outlet_Sales  \n",
       "0  Supermarket Type1          3735.1380  \n",
       "1  Supermarket Type2           443.4228  \n",
       "2  Supermarket Type1          2097.2700  \n",
       "3      Grocery Store           732.3800  \n",
       "4  Supermarket Type1           994.7052  "
      ]
     },
     "execution_count": 138,
     "metadata": {},
     "output_type": "execute_result"
    }
   ],
   "source": [
    "combined.head()"
   ]
  },
  {
   "cell_type": "code",
   "execution_count": 142,
   "metadata": {},
   "outputs": [
    {
     "data": {
      "text/plain": [
       "1        5.92\n",
       "2272     5.92\n",
       "2927      NaN\n",
       "5029     5.92\n",
       "5077     5.92\n",
       "5218     5.92\n",
       "9453     5.92\n",
       "10588    5.92\n",
       "12787    5.92\n",
       "Name: Item_Weight, dtype: float64"
      ]
     },
     "execution_count": 142,
     "metadata": {},
     "output_type": "execute_result"
    }
   ],
   "source": [
    "combined[combined.Item_Identifier==\"DRC01\"][\"Item_Weight\"]"
   ]
  },
  {
   "cell_type": "code",
   "execution_count": null,
   "metadata": {},
   "outputs": [],
   "source": []
  }
 ],
 "metadata": {
  "kernelspec": {
   "display_name": "Python 3",
   "language": "python",
   "name": "python3"
  },
  "language_info": {
   "codemirror_mode": {
    "name": "ipython",
    "version": 3
   },
   "file_extension": ".py",
   "mimetype": "text/x-python",
   "name": "python",
   "nbconvert_exporter": "python",
   "pygments_lexer": "ipython3",
   "version": "3.7.4"
  }
 },
 "nbformat": 4,
 "nbformat_minor": 2
}
